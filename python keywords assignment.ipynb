{
 "cells": [
  {
   "cell_type": "code",
   "execution_count": 1,
   "id": "a68f491a-faa3-4f5d-906f-5775ae785e87",
   "metadata": {},
   "outputs": [],
   "source": [
    "#1. Explain the significance of Python keywords and provide examples of five keywords"
   ]
  },
  {
   "cell_type": "code",
   "execution_count": 2,
   "id": "adc53ca8-0ae1-47c7-97f8-34a109c713cf",
   "metadata": {},
   "outputs": [],
   "source": [
    "#keywords are in python is predefined function, and never use keywords as a variable"
   ]
  },
  {
   "cell_type": "code",
   "execution_count": 3,
   "id": "4dfd07fc-ca9b-4ec9-aeb4-8d9fd2bb0a5d",
   "metadata": {},
   "outputs": [
    {
     "name": "stdout",
     "output_type": "stream",
     "text": [
      "\n",
      "Here is a list of the Python keywords.  Enter any keyword to get more help.\n",
      "\n",
      "False               class               from                or\n",
      "None                continue            global              pass\n",
      "True                def                 if                  raise\n",
      "and                 del                 import              return\n",
      "as                  elif                in                  try\n",
      "assert              else                is                  while\n",
      "async               except              lambda              with\n",
      "await               finally             nonlocal            yield\n",
      "break               for                 not                 \n",
      "\n"
     ]
    }
   ],
   "source": [
    "help('keywords')"
   ]
  },
  {
   "cell_type": "code",
   "execution_count": 4,
   "id": "2a9b1479-c0bb-4325-974d-78ce6d2d8591",
   "metadata": {},
   "outputs": [
    {
     "data": {
      "text/plain": [
       "False"
      ]
     },
     "execution_count": 4,
     "metadata": {},
     "output_type": "execute_result"
    }
   ],
   "source": [
    "#1.Example of in keywords\n",
    "\n",
    "l = [1,2,3,4,6]\n",
    "5 in l\n"
   ]
  },
  {
   "cell_type": "code",
   "execution_count": 5,
   "id": "51ee6e30-49d0-4ee9-b9af-d6cac2d0480b",
   "metadata": {},
   "outputs": [
    {
     "name": "stdout",
     "output_type": "stream",
     "text": [
      "greater\n"
     ]
    }
   ],
   "source": [
    "#2.Example of if keywords\n",
    "\n",
    "if 71 > 58:\n",
    "    print(\"greater\")\n"
   ]
  },
  {
   "cell_type": "code",
   "execution_count": 6,
   "id": "f52b9cff-c8f9-4bee-b0ad-192b18cac278",
   "metadata": {},
   "outputs": [
    {
     "name": "stdout",
     "output_type": "stream",
     "text": [
      "1\n",
      "2\n",
      "3\n",
      "4\n",
      "5\n",
      "6\n",
      "7\n",
      "8\n",
      "9\n"
     ]
    }
   ],
   "source": [
    "#3. Example of for keywords\n",
    "\n",
    "a = [1,2,3,4,5,6,7,8,9]\n",
    "for i in a :\n",
    "    print(i)"
   ]
  },
  {
   "cell_type": "code",
   "execution_count": 7,
   "id": "9ba54eae-b560-4229-bb74-2be83039abba",
   "metadata": {},
   "outputs": [
    {
     "name": "stdout",
     "output_type": "stream",
     "text": [
      "0\n",
      "1\n",
      "2\n",
      "3\n",
      "4\n"
     ]
    }
   ],
   "source": [
    "#4. Example of break keywords\n",
    "\n",
    "for i in range(10) :\n",
    "    if i == 5 :\n",
    "        break \n",
    "    print(i)"
   ]
  },
  {
   "cell_type": "code",
   "execution_count": 8,
   "id": "93819735-23a7-4486-ab12-6e7683426079",
   "metadata": {},
   "outputs": [
    {
     "name": "stdout",
     "output_type": "stream",
     "text": [
      "0\n",
      "1\n",
      "2\n",
      "3\n",
      "4\n",
      "6\n",
      "7\n",
      "8\n",
      "9\n"
     ]
    }
   ],
   "source": [
    "#5. Example of continue keywords\n",
    "\n",
    "for i in range(10) :\n",
    "    if i == 5 :\n",
    "        continue \n",
    "    print(i)"
   ]
  },
  {
   "cell_type": "code",
   "execution_count": 9,
   "id": "1e211289-69d9-4df8-b730-0ae5a7192905",
   "metadata": {},
   "outputs": [],
   "source": [
    "#2. Describe the rules for defining identifiers in Python and provide an example"
   ]
  },
  {
   "cell_type": "markdown",
   "id": "09d3e234-a299-4148-9cd4-e37943132dae",
   "metadata": {},
   "source": [
    "A variable should be start with a latter or underscore character , variable should not start Special Characters or integer/floating numbers"
   ]
  },
  {
   "cell_type": "code",
   "execution_count": 10,
   "id": "ab540902-26b9-4499-9dcc-e694b2db606b",
   "metadata": {},
   "outputs": [],
   "source": [
    "a = 5"
   ]
  },
  {
   "cell_type": "code",
   "execution_count": 11,
   "id": "cc3466d1-24c6-4cbb-8b93-e68dc6a2b865",
   "metadata": {},
   "outputs": [
    {
     "data": {
      "text/plain": [
       "5"
      ]
     },
     "execution_count": 11,
     "metadata": {},
     "output_type": "execute_result"
    }
   ],
   "source": [
    "a"
   ]
  },
  {
   "cell_type": "code",
   "execution_count": 12,
   "id": "8b356267-e3f9-41e6-b294-fcd0d778f84b",
   "metadata": {},
   "outputs": [
    {
     "name": "stdout",
     "output_type": "stream",
     "text": [
      "dataAnalytics\n"
     ]
    }
   ],
   "source": [
    "course = \"dataAnalytics\"\n",
    "print(course)"
   ]
  },
  {
   "cell_type": "code",
   "execution_count": 13,
   "id": "af71b434-e7b9-46ce-a4e2-7ff244c9bbe4",
   "metadata": {},
   "outputs": [
    {
     "ename": "SyntaxError",
     "evalue": "cannot assign to literal here. Maybe you meant '==' instead of '='? (6699687.py, line 3)",
     "output_type": "error",
     "traceback": [
      "\u001b[0;36m  Cell \u001b[0;32mIn[13], line 3\u001b[0;36m\u001b[0m\n\u001b[0;31m    123 = \"dataAnalytics\"\u001b[0m\n\u001b[0m    ^\u001b[0m\n\u001b[0;31mSyntaxError\u001b[0m\u001b[0;31m:\u001b[0m cannot assign to literal here. Maybe you meant '==' instead of '='?\n"
     ]
    }
   ],
   "source": [
    "#interger variablle\n",
    "\n",
    "123 = \"dataAnalytics\"\n",
    "print(course)"
   ]
  },
  {
   "cell_type": "code",
   "execution_count": 14,
   "id": "bd4083ee-36f1-46cb-ac92-7a27436c7337",
   "metadata": {},
   "outputs": [
    {
     "name": "stdout",
     "output_type": "stream",
     "text": [
      "dataAnalytics\n"
     ]
    }
   ],
   "source": [
    "#underscore variable\n",
    "\n",
    "pw_course = \"dataAnalytics\"\n",
    "print(pw_course)"
   ]
  },
  {
   "cell_type": "code",
   "execution_count": 15,
   "id": "95443c0b-ff8d-4e43-812d-1118f4fdea95",
   "metadata": {},
   "outputs": [
    {
     "ename": "SyntaxError",
     "evalue": "cannot assign to literal here. Maybe you meant '==' instead of '='? (1523611502.py, line 3)",
     "output_type": "error",
     "traceback": [
      "\u001b[0;36m  Cell \u001b[0;32mIn[15], line 3\u001b[0;36m\u001b[0m\n\u001b[0;31m    7.6 = \"dataAnalytics\"\u001b[0m\n\u001b[0m    ^\u001b[0m\n\u001b[0;31mSyntaxError\u001b[0m\u001b[0;31m:\u001b[0m cannot assign to literal here. Maybe you meant '==' instead of '='?\n"
     ]
    }
   ],
   "source": [
    "#floating variable\n",
    "\n",
    "7.6 = \"dataAnalytics\"\n",
    "print(7.6)"
   ]
  },
  {
   "cell_type": "code",
   "execution_count": 16,
   "id": "01ac40d6-6bf4-47b7-ab67-c7737f5a76bd",
   "metadata": {},
   "outputs": [
    {
     "name": "stdout",
     "output_type": "stream",
     "text": [
      "dataAnalytics\n"
     ]
    }
   ],
   "source": [
    "#underscore variable\n",
    "\n",
    "_course = \"dataAnalytics\"\n",
    "print(_course)"
   ]
  },
  {
   "cell_type": "code",
   "execution_count": 17,
   "id": "c1cf20fb-831a-4036-9959-cdd7de057ca2",
   "metadata": {},
   "outputs": [],
   "source": [
    "#8. What are comments in Python, and why are they useful? Provide an example"
   ]
  },
  {
   "cell_type": "markdown",
   "id": "80588a73-95c7-4deb-ad66-37cbbffff2ba",
   "metadata": {},
   "source": [
    "1> Single-line comments start with the '#' symbol and extend until the end of the line.\n",
    "2> Multi-line comments are enclosed within triple quotes (\"\"\") and can span multiple lines.\n",
    "\n",
    "Comments play a crucial role in improving code maintainability, collaboration, and understanding. They help developers comprehend the code's logic, make modifications or enhancements, and debug it effectively."
   ]
  },
  {
   "cell_type": "code",
   "execution_count": 18,
   "id": "411dc936-9160-4a7c-a195-ad417dcc06ca",
   "metadata": {},
   "outputs": [],
   "source": [
    "#single line comments \n",
    "\n",
    "#this is my first assignment"
   ]
  },
  {
   "cell_type": "code",
   "execution_count": 19,
   "id": "b6434d95-4eeb-4ace-a4f7-8c0efc34d70b",
   "metadata": {},
   "outputs": [
    {
     "data": {
      "text/plain": [
       "' this is \\nmy first\\nassignment \\nof data analytics\\ncourse '"
      ]
     },
     "execution_count": 19,
     "metadata": {},
     "output_type": "execute_result"
    }
   ],
   "source": [
    "#multiline comments\n",
    "\n",
    "\"\"\" this is \n",
    "my first\n",
    "assignment \n",
    "of data analytics\n",
    "course \"\"\""
   ]
  },
  {
   "cell_type": "code",
   "execution_count": 20,
   "id": "0ddc0f88-067a-483f-81dc-5b6a4b78f556",
   "metadata": {},
   "outputs": [],
   "source": [
    "#4. Why is proper indentation important in Python?"
   ]
  },
  {
   "cell_type": "markdown",
   "id": "223269a2-d847-43d9-b473-5da9ca75841a",
   "metadata": {},
   "source": [
    "Indentation is a very important concept of Python because without properly indenting the Python code, you will end up seeing IndentationError and the code will not get compiled."
   ]
  },
  {
   "cell_type": "code",
   "execution_count": 21,
   "id": "0040698c-82b6-46c5-9733-39ebaecb6182",
   "metadata": {},
   "outputs": [],
   "source": [
    "#5. What happens if indentation is incorrect in Python?"
   ]
  },
  {
   "cell_type": "markdown",
   "id": "9bca4f5d-276a-49fc-ab28-59022425329f",
   "metadata": {},
   "source": [
    "if indentation is incorrect you will end up seeing IndentationError and the code will not get compiled."
   ]
  },
  {
   "cell_type": "code",
   "execution_count": 22,
   "id": "679af639-e25c-470b-a502-3f9a187e62c4",
   "metadata": {},
   "outputs": [
    {
     "ename": "IndentationError",
     "evalue": "unexpected indent (514382237.py, line 4)",
     "output_type": "error",
     "traceback": [
      "\u001b[0;36m  Cell \u001b[0;32mIn[22], line 4\u001b[0;36m\u001b[0m\n\u001b[0;31m    print(a+b)\u001b[0m\n\u001b[0m    ^\u001b[0m\n\u001b[0;31mIndentationError\u001b[0m\u001b[0;31m:\u001b[0m unexpected indent\n"
     ]
    }
   ],
   "source": [
    "#example\n",
    "a = 4 \n",
    "b = 5\n",
    "   print(a+b)"
   ]
  },
  {
   "cell_type": "code",
   "execution_count": 23,
   "id": "802d0c32-29bd-4bf4-8425-ca309003138e",
   "metadata": {},
   "outputs": [],
   "source": [
    "#6. Differentiate etween expression and statement in Python with examples"
   ]
  },
  {
   "cell_type": "markdown",
   "id": "068f0644-c58f-4014-b1a4-10e321c3268f",
   "metadata": {},
   "source": [
    ">>Expresssion\n",
    "An expression is a combination of values, variables, operators, and function calls that evaluates to a single value."
   ]
  },
  {
   "cell_type": "code",
   "execution_count": 24,
   "id": "4b305391-6b7f-4ec9-9915-322c6cd938d5",
   "metadata": {},
   "outputs": [
    {
     "name": "stdout",
     "output_type": "stream",
     "text": [
      "11\n"
     ]
    }
   ],
   "source": [
    "a = 7 + 4 \n",
    "print(a)"
   ]
  },
  {
   "cell_type": "markdown",
   "id": "1a2146df-ceb8-4029-a8bf-dc0684b101cd",
   "metadata": {},
   "source": [
    ">>  statement\n",
    "Statements can be simple, like assignment or function calls, or compound, like loops, conditional statements, and function definitions."
   ]
  },
  {
   "cell_type": "code",
   "execution_count": 25,
   "id": "7591b5fd-a698-41ad-83a4-6406ac87c150",
   "metadata": {},
   "outputs": [
    {
     "name": "stdout",
     "output_type": "stream",
     "text": [
      "0\n",
      "1\n",
      "2\n",
      "3\n",
      "4\n"
     ]
    }
   ],
   "source": [
    "for i in range(5):\n",
    "    print(i)\n"
   ]
  },
  {
   "cell_type": "code",
   "execution_count": null,
   "id": "0c5a68e5-5347-4b3a-ba7e-60f58ad95d62",
   "metadata": {},
   "outputs": [],
   "source": []
  }
 ],
 "metadata": {
  "kernelspec": {
   "display_name": "Python 3 (ipykernel)",
   "language": "python",
   "name": "python3"
  },
  "language_info": {
   "codemirror_mode": {
    "name": "ipython",
    "version": 3
   },
   "file_extension": ".py",
   "mimetype": "text/x-python",
   "name": "python",
   "nbconvert_exporter": "python",
   "pygments_lexer": "ipython3",
   "version": "3.10.8"
  }
 },
 "nbformat": 4,
 "nbformat_minor": 5
}
