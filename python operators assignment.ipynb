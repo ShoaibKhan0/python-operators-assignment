{
 "cells": [
  {
   "cell_type": "code",
   "execution_count": 1,
   "id": "d911ee53-26b5-44fe-a832-99d252ea5a2f",
   "metadata": {},
   "outputs": [],
   "source": [
    "#1.Calculate the sum, difference, product, and quotient of two numbers."
   ]
  },
  {
   "cell_type": "code",
   "execution_count": 2,
   "id": "83ed3a5c-c998-49bc-9bb4-46591b4ef1d3",
   "metadata": {},
   "outputs": [],
   "source": [
    "#sum\n",
    "a = 45 \n",
    "b = 70"
   ]
  },
  {
   "cell_type": "code",
   "execution_count": 3,
   "id": "45548359-c00d-4e83-94bf-17e8c7162ca5",
   "metadata": {},
   "outputs": [
    {
     "data": {
      "text/plain": [
       "115"
      ]
     },
     "execution_count": 3,
     "metadata": {},
     "output_type": "execute_result"
    }
   ],
   "source": [
    "a + b "
   ]
  },
  {
   "cell_type": "code",
   "execution_count": 4,
   "id": "795f0be9-28a4-4381-91e6-d7bb4a059c52",
   "metadata": {},
   "outputs": [],
   "source": [
    "#difference\n",
    "c = 77\n",
    "d = 57"
   ]
  },
  {
   "cell_type": "code",
   "execution_count": 5,
   "id": "f6de6d4e-d9c9-4408-bb43-778a88fc48d0",
   "metadata": {},
   "outputs": [
    {
     "data": {
      "text/plain": [
       "20"
      ]
     },
     "execution_count": 5,
     "metadata": {},
     "output_type": "execute_result"
    }
   ],
   "source": [
    "c - d"
   ]
  },
  {
   "cell_type": "code",
   "execution_count": 6,
   "id": "73c599be-a2de-4b29-b2e6-91e35db5165c",
   "metadata": {},
   "outputs": [],
   "source": [
    "#product\n",
    "e = 7\n",
    "f = 5"
   ]
  },
  {
   "cell_type": "code",
   "execution_count": 7,
   "id": "c28a89a2-2c47-41b5-b4ba-ffe95a65a720",
   "metadata": {},
   "outputs": [
    {
     "data": {
      "text/plain": [
       "35"
      ]
     },
     "execution_count": 7,
     "metadata": {},
     "output_type": "execute_result"
    }
   ],
   "source": [
    "e * f"
   ]
  },
  {
   "cell_type": "code",
   "execution_count": 8,
   "id": "e4b9a189-8be3-4894-b4b3-f8cd9cca1973",
   "metadata": {},
   "outputs": [],
   "source": [
    "#quotient\n",
    "g = 100\n",
    "h = 5"
   ]
  },
  {
   "cell_type": "code",
   "execution_count": 9,
   "id": "39eda130-0f73-45ad-bdf6-dd1fea2ef8f1",
   "metadata": {},
   "outputs": [
    {
     "data": {
      "text/plain": [
       "20.0"
      ]
     },
     "execution_count": 9,
     "metadata": {},
     "output_type": "execute_result"
    }
   ],
   "source": [
    "g / h"
   ]
  },
  {
   "cell_type": "code",
   "execution_count": 10,
   "id": "13ea2b65-3008-488e-a8f2-58e7500d0bc4",
   "metadata": {},
   "outputs": [],
   "source": [
    "#2. Perform various assignment operations on a variable."
   ]
  },
  {
   "cell_type": "code",
   "execution_count": 11,
   "id": "2b8ba035-6aa7-4703-950e-e6b6f6f2348c",
   "metadata": {},
   "outputs": [],
   "source": [
    "x = 10"
   ]
  },
  {
   "cell_type": "code",
   "execution_count": 12,
   "id": "13a926ef-d0d7-440c-8059-9f455e330842",
   "metadata": {},
   "outputs": [
    {
     "name": "stdout",
     "output_type": "stream",
     "text": [
      "15\n"
     ]
    }
   ],
   "source": [
    "x += 5\n",
    "print(x)"
   ]
  },
  {
   "cell_type": "code",
   "execution_count": 13,
   "id": "cbbbd54e-6968-46d4-909d-ea1c5a0c256b",
   "metadata": {},
   "outputs": [
    {
     "name": "stdout",
     "output_type": "stream",
     "text": [
      "20\n"
     ]
    }
   ],
   "source": [
    "y = 25\n",
    "y -= 5\n",
    "print(y)"
   ]
  },
  {
   "cell_type": "code",
   "execution_count": 14,
   "id": "657ff964-ac95-4369-93fe-6e3a2e87faf4",
   "metadata": {},
   "outputs": [
    {
     "name": "stdout",
     "output_type": "stream",
     "text": [
      "35\n"
     ]
    }
   ],
   "source": [
    "z = 7\n",
    "z *= 5\n",
    "print(z)\n"
   ]
  },
  {
   "cell_type": "code",
   "execution_count": 15,
   "id": "a39ccb70-ef49-4dca-8467-e349da625663",
   "metadata": {},
   "outputs": [
    {
     "name": "stdout",
     "output_type": "stream",
     "text": [
      "25.0\n"
     ]
    }
   ],
   "source": [
    "a = 50\n",
    "a /= 2\n",
    "print(a)"
   ]
  },
  {
   "cell_type": "code",
   "execution_count": 16,
   "id": "8a1a5bbf-8f48-41ed-9a43-7a53bf88cb17",
   "metadata": {},
   "outputs": [],
   "source": [
    "#3. Compare two numbers and print the results."
   ]
  },
  {
   "cell_type": "code",
   "execution_count": 17,
   "id": "48c32676-b672-4549-bc85-972122c69e6c",
   "metadata": {},
   "outputs": [],
   "source": [
    "num1 = 70\n",
    "num2 = 56"
   ]
  },
  {
   "cell_type": "code",
   "execution_count": 18,
   "id": "99d20d8f-4274-4e7b-bee6-cf134c16a0bd",
   "metadata": {},
   "outputs": [
    {
     "data": {
      "text/plain": [
       "True"
      ]
     },
     "execution_count": 18,
     "metadata": {},
     "output_type": "execute_result"
    }
   ],
   "source": [
    "num1 > num2"
   ]
  },
  {
   "cell_type": "code",
   "execution_count": 19,
   "id": "94383374-5946-4596-9013-166010aa16ab",
   "metadata": {},
   "outputs": [
    {
     "data": {
      "text/plain": [
       "False"
      ]
     },
     "execution_count": 19,
     "metadata": {},
     "output_type": "execute_result"
    }
   ],
   "source": [
    "num1 < num2"
   ]
  },
  {
   "cell_type": "code",
   "execution_count": 20,
   "id": "1deb9085-e90e-49c5-83cd-be59aecd5c52",
   "metadata": {},
   "outputs": [
    {
     "data": {
      "text/plain": [
       "True"
      ]
     },
     "execution_count": 20,
     "metadata": {},
     "output_type": "execute_result"
    }
   ],
   "source": [
    "4 == 4 "
   ]
  },
  {
   "cell_type": "code",
   "execution_count": 21,
   "id": "a61b62f6-aa01-45f7-a8d5-ca5b04eb9226",
   "metadata": {},
   "outputs": [
    {
     "data": {
      "text/plain": [
       "False"
      ]
     },
     "execution_count": 21,
     "metadata": {},
     "output_type": "execute_result"
    }
   ],
   "source": [
    "17 <= 10"
   ]
  },
  {
   "cell_type": "code",
   "execution_count": 22,
   "id": "8efc40d4-2c18-4e88-8073-e37226701bc9",
   "metadata": {},
   "outputs": [],
   "source": [
    "#4. Check conditions using logical operators."
   ]
  },
  {
   "cell_type": "code",
   "execution_count": 23,
   "id": "07b96ed4-5126-4fe5-b7d3-3135f975fac4",
   "metadata": {},
   "outputs": [
    {
     "data": {
      "text/plain": [
       "True"
      ]
     },
     "execution_count": 23,
     "metadata": {},
     "output_type": "execute_result"
    }
   ],
   "source": [
    "#And operator\n",
    "True and True"
   ]
  },
  {
   "cell_type": "code",
   "execution_count": 24,
   "id": "44cad900-1e52-4ec3-963f-d282083c1caa",
   "metadata": {},
   "outputs": [
    {
     "data": {
      "text/plain": [
       "False"
      ]
     },
     "execution_count": 24,
     "metadata": {},
     "output_type": "execute_result"
    }
   ],
   "source": [
    "True and False"
   ]
  },
  {
   "cell_type": "code",
   "execution_count": 25,
   "id": "bdb68d4b-c54c-490d-b734-17fdcb842073",
   "metadata": {},
   "outputs": [
    {
     "data": {
      "text/plain": [
       "False"
      ]
     },
     "execution_count": 25,
     "metadata": {},
     "output_type": "execute_result"
    }
   ],
   "source": [
    "False and True"
   ]
  },
  {
   "cell_type": "code",
   "execution_count": 26,
   "id": "dd8f7145-1693-4939-89ae-e3723946c5d0",
   "metadata": {},
   "outputs": [
    {
     "data": {
      "text/plain": [
       "False"
      ]
     },
     "execution_count": 26,
     "metadata": {},
     "output_type": "execute_result"
    }
   ],
   "source": [
    "#Or operators\n",
    "False or False"
   ]
  },
  {
   "cell_type": "code",
   "execution_count": 27,
   "id": "33abbc4f-edd2-4632-84c3-f8b5ac1bfd42",
   "metadata": {},
   "outputs": [
    {
     "data": {
      "text/plain": [
       "True"
      ]
     },
     "execution_count": 27,
     "metadata": {},
     "output_type": "execute_result"
    }
   ],
   "source": [
    "True or False"
   ]
  },
  {
   "cell_type": "code",
   "execution_count": 28,
   "id": "20ab4b60-d0eb-4fc8-a05e-86060072ccb2",
   "metadata": {},
   "outputs": [
    {
     "data": {
      "text/plain": [
       "True"
      ]
     },
     "execution_count": 28,
     "metadata": {},
     "output_type": "execute_result"
    }
   ],
   "source": [
    "False or True"
   ]
  },
  {
   "cell_type": "code",
   "execution_count": 29,
   "id": "a0f0ccb3-9ea8-46ba-886c-5334cf912843",
   "metadata": {},
   "outputs": [
    {
     "data": {
      "text/plain": [
       "True"
      ]
     },
     "execution_count": 29,
     "metadata": {},
     "output_type": "execute_result"
    }
   ],
   "source": [
    "#Not operators\n",
    "not False"
   ]
  },
  {
   "cell_type": "code",
   "execution_count": 30,
   "id": "18215d28-30dd-467a-9ebb-01b46cd97bbf",
   "metadata": {},
   "outputs": [
    {
     "data": {
      "text/plain": [
       "False"
      ]
     },
     "execution_count": 30,
     "metadata": {},
     "output_type": "execute_result"
    }
   ],
   "source": [
    "not True"
   ]
  },
  {
   "cell_type": "code",
   "execution_count": 31,
   "id": "d592368c-d05f-4699-a8a9-01c553a5fae7",
   "metadata": {},
   "outputs": [],
   "source": [
    "#5. Check the identity of variables."
   ]
  },
  {
   "cell_type": "code",
   "execution_count": 32,
   "id": "8442b3fa-051c-4af8-b335-ce569dae24cb",
   "metadata": {},
   "outputs": [],
   "source": [
    "a = \"shoaib\"\n",
    "b = \"khan\""
   ]
  },
  {
   "cell_type": "code",
   "execution_count": 33,
   "id": "9cff069e-70d8-4f8a-8fcd-7225f77f8bfd",
   "metadata": {},
   "outputs": [
    {
     "data": {
      "text/plain": [
       "False"
      ]
     },
     "execution_count": 33,
     "metadata": {},
     "output_type": "execute_result"
    }
   ],
   "source": [
    "a is b"
   ]
  },
  {
   "cell_type": "code",
   "execution_count": 34,
   "id": "69891d8b-4516-4043-8ebe-0d4f4d665ce9",
   "metadata": {},
   "outputs": [
    {
     "data": {
      "text/plain": [
       "False"
      ]
     },
     "execution_count": 34,
     "metadata": {},
     "output_type": "execute_result"
    }
   ],
   "source": [
    "b is a"
   ]
  },
  {
   "cell_type": "code",
   "execution_count": 35,
   "id": "f138ef1f-9cb8-458b-beff-f4f882088f72",
   "metadata": {},
   "outputs": [
    {
     "data": {
      "text/plain": [
       "True"
      ]
     },
     "execution_count": 35,
     "metadata": {},
     "output_type": "execute_result"
    }
   ],
   "source": [
    "a is not b"
   ]
  },
  {
   "cell_type": "code",
   "execution_count": 36,
   "id": "2b38788c-56cd-4c96-98fe-c824ddc7880b",
   "metadata": {},
   "outputs": [],
   "source": [
    "#6. Perform bitwise operations on any two integers."
   ]
  },
  {
   "cell_type": "code",
   "execution_count": 37,
   "id": "f952f790-1f1d-41f4-b6be-f57967b75122",
   "metadata": {},
   "outputs": [
    {
     "data": {
      "text/plain": [
       "4"
      ]
     },
     "execution_count": 37,
     "metadata": {},
     "output_type": "execute_result"
    }
   ],
   "source": [
    "12 & 7"
   ]
  },
  {
   "cell_type": "code",
   "execution_count": 38,
   "id": "37a583bd-0520-402b-9ef6-22007cd3deb2",
   "metadata": {},
   "outputs": [
    {
     "data": {
      "text/plain": [
       "'0b1100'"
      ]
     },
     "execution_count": 38,
     "metadata": {},
     "output_type": "execute_result"
    }
   ],
   "source": [
    "bin(12)"
   ]
  },
  {
   "cell_type": "code",
   "execution_count": 39,
   "id": "e71d6e2f-7544-4546-a754-bb27ec091523",
   "metadata": {},
   "outputs": [
    {
     "data": {
      "text/plain": [
       "'0b111'"
      ]
     },
     "execution_count": 39,
     "metadata": {},
     "output_type": "execute_result"
    }
   ],
   "source": [
    "bin(7)"
   ]
  },
  {
   "cell_type": "code",
   "execution_count": 40,
   "id": "4750b4e1-eb25-4f65-aed2-01735696873a",
   "metadata": {},
   "outputs": [
    {
     "data": {
      "text/plain": [
       "'0b100'"
      ]
     },
     "execution_count": 40,
     "metadata": {},
     "output_type": "execute_result"
    }
   ],
   "source": [
    "bin(4)"
   ]
  },
  {
   "cell_type": "code",
   "execution_count": 41,
   "id": "cd25b635-a8a9-441a-aac4-46e97eb32aab",
   "metadata": {},
   "outputs": [
    {
     "data": {
      "text/plain": [
       "-71"
      ]
     },
     "execution_count": 41,
     "metadata": {},
     "output_type": "execute_result"
    }
   ],
   "source": [
    "#negation\n",
    "~70"
   ]
  },
  {
   "cell_type": "code",
   "execution_count": 42,
   "id": "14a808f7-66b8-48eb-b5b0-a3d0f1b6fe29",
   "metadata": {},
   "outputs": [
    {
     "data": {
      "text/plain": [
       "-57"
      ]
     },
     "execution_count": 42,
     "metadata": {},
     "output_type": "execute_result"
    }
   ],
   "source": [
    "~56"
   ]
  },
  {
   "cell_type": "code",
   "execution_count": 43,
   "id": "adb5747d-6368-4e92-9301-10dd920ffdaf",
   "metadata": {},
   "outputs": [
    {
     "data": {
      "text/plain": [
       "4"
      ]
     },
     "execution_count": 43,
     "metadata": {},
     "output_type": "execute_result"
    }
   ],
   "source": [
    "#bitwise xor\n",
    "7 ^ 3"
   ]
  },
  {
   "cell_type": "code",
   "execution_count": 44,
   "id": "5035d0b6-10d6-4d76-8a67-48590a10e890",
   "metadata": {},
   "outputs": [
    {
     "data": {
      "text/plain": [
       "'0b111'"
      ]
     },
     "execution_count": 44,
     "metadata": {},
     "output_type": "execute_result"
    }
   ],
   "source": [
    "bin(7)"
   ]
  },
  {
   "cell_type": "code",
   "execution_count": 45,
   "id": "b0899d32-e17b-4715-875c-c34b55ae4516",
   "metadata": {},
   "outputs": [
    {
     "data": {
      "text/plain": [
       "'0b11'"
      ]
     },
     "execution_count": 45,
     "metadata": {},
     "output_type": "execute_result"
    }
   ],
   "source": [
    "bin(3)"
   ]
  },
  {
   "cell_type": "code",
   "execution_count": 46,
   "id": "0de0db49-388c-4d02-8ccb-80a90cb2a79e",
   "metadata": {},
   "outputs": [
    {
     "data": {
      "text/plain": [
       "'0b100'"
      ]
     },
     "execution_count": 46,
     "metadata": {},
     "output_type": "execute_result"
    }
   ],
   "source": [
    "bin(4)"
   ]
  },
  {
   "cell_type": "code",
   "execution_count": 47,
   "id": "fcce9473-7223-477a-8d24-6ea796ddea48",
   "metadata": {},
   "outputs": [],
   "source": [
    "#shift << left shift and right shift"
   ]
  },
  {
   "cell_type": "code",
   "execution_count": 48,
   "id": "5d8cd31c-3c61-49fb-b4e4-dc470fa7d9af",
   "metadata": {},
   "outputs": [
    {
     "data": {
      "text/plain": [
       "720"
      ]
     },
     "execution_count": 48,
     "metadata": {},
     "output_type": "execute_result"
    }
   ],
   "source": [
    "#left shift << put no. of zero right side\n",
    "45 << 4"
   ]
  },
  {
   "cell_type": "code",
   "execution_count": 49,
   "id": "7db981b0-5169-4704-877a-88650fe7c334",
   "metadata": {},
   "outputs": [
    {
     "data": {
      "text/plain": [
       "'0b101101'"
      ]
     },
     "execution_count": 49,
     "metadata": {},
     "output_type": "execute_result"
    }
   ],
   "source": [
    "bin(45)"
   ]
  },
  {
   "cell_type": "code",
   "execution_count": 50,
   "id": "aa883c02-32fe-4ff0-80f4-cbf5ded2dcb2",
   "metadata": {},
   "outputs": [
    {
     "data": {
      "text/plain": [
       "'0b1011010000'"
      ]
     },
     "execution_count": 50,
     "metadata": {},
     "output_type": "execute_result"
    }
   ],
   "source": [
    "bin(720)"
   ]
  },
  {
   "cell_type": "code",
   "execution_count": 51,
   "id": "699b0bc3-4bb1-4d01-96a8-ff146efaa1c0",
   "metadata": {},
   "outputs": [],
   "source": [
    "#Right shift >> remove the no. of elements in binary"
   ]
  },
  {
   "cell_type": "code",
   "execution_count": 52,
   "id": "4559f557-2505-4e0d-a51d-08ba601d2636",
   "metadata": {},
   "outputs": [
    {
     "data": {
      "text/plain": [
       "21"
      ]
     },
     "execution_count": 52,
     "metadata": {},
     "output_type": "execute_result"
    }
   ],
   "source": [
    "172 >> 3"
   ]
  },
  {
   "cell_type": "code",
   "execution_count": 53,
   "id": "9af5ba76-a100-42e7-8a4a-613051e0018d",
   "metadata": {},
   "outputs": [
    {
     "data": {
      "text/plain": [
       "'0b10101100'"
      ]
     },
     "execution_count": 53,
     "metadata": {},
     "output_type": "execute_result"
    }
   ],
   "source": [
    "bin(172)"
   ]
  },
  {
   "cell_type": "code",
   "execution_count": 54,
   "id": "c091aef6-a1e6-4567-8de9-62b265733456",
   "metadata": {},
   "outputs": [
    {
     "data": {
      "text/plain": [
       "'0b10101'"
      ]
     },
     "execution_count": 54,
     "metadata": {},
     "output_type": "execute_result"
    }
   ],
   "source": [
    "bin(21)"
   ]
  },
  {
   "cell_type": "code",
   "execution_count": 55,
   "id": "ae4ad0d0-f23d-43ca-92fe-6852a947bf4d",
   "metadata": {},
   "outputs": [],
   "source": [
    "#7. Use unary operators to change the sign of a number."
   ]
  },
  {
   "cell_type": "code",
   "execution_count": 56,
   "id": "e213b19f-ef50-4559-9e87-573509313b7e",
   "metadata": {},
   "outputs": [
    {
     "name": "stdout",
     "output_type": "stream",
     "text": [
      "7\n",
      "-7\n"
     ]
    }
   ],
   "source": [
    "x = 7\n",
    "print(x)\n",
    "print(-x)"
   ]
  },
  {
   "cell_type": "code",
   "execution_count": 57,
   "id": "ec39c6f6-aac4-4bd3-85e9-bf8186982aa6",
   "metadata": {},
   "outputs": [],
   "source": [
    "y = 15"
   ]
  },
  {
   "cell_type": "code",
   "execution_count": 58,
   "id": "b4b71e48-b8bc-4741-b96c-97fab486d700",
   "metadata": {},
   "outputs": [
    {
     "data": {
      "text/plain": [
       "-15"
      ]
     },
     "execution_count": 58,
     "metadata": {},
     "output_type": "execute_result"
    }
   ],
   "source": [
    "-y"
   ]
  },
  {
   "cell_type": "code",
   "execution_count": 59,
   "id": "9f0a9609-c5e1-45a9-87f4-f898356f454c",
   "metadata": {},
   "outputs": [],
   "source": [
    "#8. Use the ternary operator to assign values based on conditions."
   ]
  },
  {
   "cell_type": "code",
   "execution_count": 60,
   "id": "8c406f17-63f8-460e-9052-f294ed86533e",
   "metadata": {},
   "outputs": [],
   "source": [
    "age = 20\n",
    "eligible = \"you can vote\" if (age>=18) else \"you can't vote\""
   ]
  },
  {
   "cell_type": "code",
   "execution_count": 61,
   "id": "93618976-d00b-4f92-b12e-3d352f73471d",
   "metadata": {},
   "outputs": [
    {
     "name": "stdout",
     "output_type": "stream",
     "text": [
      "you can vote\n"
     ]
    }
   ],
   "source": [
    "print(eligible)"
   ]
  },
  {
   "cell_type": "code",
   "execution_count": null,
   "id": "a46df803-6224-449d-87e0-0e3ece89b67d",
   "metadata": {},
   "outputs": [],
   "source": []
  }
 ],
 "metadata": {
  "kernelspec": {
   "display_name": "Python 3 (ipykernel)",
   "language": "python",
   "name": "python3"
  },
  "language_info": {
   "codemirror_mode": {
    "name": "ipython",
    "version": 3
   },
   "file_extension": ".py",
   "mimetype": "text/x-python",
   "name": "python",
   "nbconvert_exporter": "python",
   "pygments_lexer": "ipython3",
   "version": "3.10.8"
  }
 },
 "nbformat": 4,
 "nbformat_minor": 5
}
